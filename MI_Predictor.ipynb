{
 "cells": [
  {
   "cell_type": "code",
   "execution_count": 1,
   "metadata": {},
   "outputs": [],
   "source": [
    "# Standard library imports\n",
    "import pandas as pd\n",
    "import numpy as np\n",
    "import matplotlib.pyplot as plt\n",
    "\n",
    "# Model and Estimators\n",
    "from sklearn.neighbors import KNeighborsClassifier\n",
    "from sklearn.linear_model import LogisticRegression\n",
    "\n",
    "# Preprocessing and Pipeline\n",
    "from sklearn.impute import KNNImputer, SimpleImputer\n",
    "from sklearn.preprocessing import MinMaxScaler, OneHotEncoder, StandardScaler, LabelEncoder\n",
    "from sklearn.compose import ColumnTransformer\n",
    "from sklearn.pipeline import Pipeline, make_pipeline\n",
    "\n",
    "# Model selection and validation\n",
    "from sklearn.model_selection import train_test_split, GridSearchCV\n",
    "\n",
    "# Metrics\n",
    "from sklearn.metrics import accuracy_score, confusion_matrix\n",
    "from sklearn.metrics import roc_auc_score, classification_report, roc_curve\n",
    "\n",
    "# Imbalanced dataset handling\n",
    "from imblearn.over_sampling import SMOTE\n",
    "from imblearn.pipeline import Pipeline as ImPipeline\n",
    "\n",
    "# Data Visualization\n",
    "from pandas.plotting import scatter_matrix\n"
   ]
  },
  {
   "cell_type": "markdown",
   "metadata": {},
   "source": [
    "# kNN"
   ]
  },
  {
   "cell_type": "code",
   "execution_count": 2,
   "metadata": {},
   "outputs": [
    {
     "name": "stdout",
     "output_type": "stream",
     "text": [
      "Best Parameters: {'classifier__n_neighbors': 11}\n",
      "ROC AUC Score: 0.7510679247054406\n",
      "Accuracy: 0.7426470588235294\n",
      "Confusion Matrix: \n",
      "[[ 16  11]\n",
      " [199 590]]\n",
      "Classification Report: \n",
      "              precision    recall  f1-score   support\n",
      "\n",
      "           1       0.07      0.59      0.13        27\n",
      "           2       0.98      0.75      0.85       789\n",
      "\n",
      "    accuracy                           0.74       816\n",
      "   macro avg       0.53      0.67      0.49       816\n",
      "weighted avg       0.95      0.74      0.83       816\n",
      "\n"
     ]
    }
   ],
   "source": [
    "# Load the training dataset\n",
    "data = pd.read_csv(\"NHANES_data_train.csv\")\n",
    "\n",
    "# Specify numeric and categorical columns\n",
    "numeric_columns = ['Income', 'Age', 'Diastolic', 'Systolic', 'Pulse', 'BMI', 'HDL', 'Trig', 'LDL', 'TCHOL', 'kidneys_eGFR']\n",
    "categorical_columns = ['Sex', 'Race', 'Edu', 'Diabetes', 'CurrentSmoker', 'isActive', 'isInsured']\n",
    "\n",
    "# Define preprocessing pipelines\n",
    "numeric_pipeline = Pipeline([\n",
    "    ('imputer', KNNImputer()),\n",
    "    ('scaler', StandardScaler())])\n",
    "\n",
    "categorical_pipeline = Pipeline([\n",
    "    ('imputer', SimpleImputer(strategy='most_frequent')),\n",
    "    ('encoder', OneHotEncoder(handle_unknown='ignore'))])\n",
    "\n",
    "preprocessor = ColumnTransformer([\n",
    "    ('num', numeric_pipeline, numeric_columns),\n",
    "    ('cat', categorical_pipeline, categorical_columns)])\n",
    "\n",
    "# Define a pipeline for resampling and classification\n",
    "model_pipeline = ImPipeline([\n",
    "    ('preprocessor', preprocessor),\n",
    "    ('resampling', SMOTE(random_state=42)),\n",
    "    ('classifier', KNeighborsClassifier(n_neighbors=11))  # Adjust based on best parameters if needed\n",
    "])\n",
    "\n",
    "# Split the dataset into training and test sets\n",
    "X_train, X_test, y_train, y_test = train_test_split(data.drop(['MI'], axis=1), data['MI'], test_size=0.2, random_state=42)\n",
    "\n",
    "# Define the parameter grid for hyperparameter tuning\n",
    "param_grid = {'classifier__n_neighbors': [3, 5, 7, 9, 11]}\n",
    "\n",
    "# Perform grid search with cross-validation\n",
    "clf = GridSearchCV(model_pipeline, param_grid, scoring='roc_auc', cv=11)\n",
    "clf.fit(X_train, y_train)\n",
    "\n",
    "# Evaluation\n",
    "y_pred = clf.predict(X_test)\n",
    "y_prob = clf.predict_proba(X_test)[:, 1]  # Probability predictions\n",
    "\n",
    "# Output evaluation metrics\n",
    "print(f\"Best Parameters: {clf.best_params_}\")\n",
    "print(f\"ROC AUC Score: {roc_auc_score(y_test, y_prob)}\")\n",
    "print(f\"Accuracy: {accuracy_score(y_test, y_pred)}\")\n",
    "print(f\"Confusion Matrix: \\n{confusion_matrix(y_test, y_pred)}\")\n",
    "print(f\"Classification Report: \\n{classification_report(y_test, y_pred)}\")\n",
    "\n"
   ]
  },
  {
   "cell_type": "code",
   "execution_count": 6,
   "metadata": {},
   "outputs": [
    {
     "name": "stdout",
     "output_type": "stream",
     "text": [
      "Participant ID and MI probabilities saved to kNN_pred.csv.\n"
     ]
    }
   ],
   "source": [
    "# Apply the trained model to new data\n",
    "new_data = pd.read_csv(\"NHANES_test_data_4_students.csv\")\n",
    "if 'MI' in new_data.columns:\n",
    "    new_data.drop(columns=['MI'], inplace=True)\n",
    "\n",
    "# Predict probabilities on the new dataset\n",
    "new_probabilities = clf.predict_proba(new_data.drop(['ParticipantID'], axis=1))[:, 1]\n",
    "\n",
    "# Create a DataFrame with predictions\n",
    "predictions_df = pd.DataFrame({\n",
    "    'ParticipantID': new_data['ParticipantID'],\n",
    "    'MI_Probability': new_probabilities\n",
    "})\n",
    "\n",
    "# Save the predictions to a CSV file\n",
    "predictions_df.to_csv(\"kNN_pred.csv\", index=False)\n",
    "print(\"Participant ID and MI probabilities saved to kNN_pred.csv.\")\n"
   ]
  },
  {
   "cell_type": "markdown",
   "metadata": {},
   "source": [
    "# Logistic Regression"
   ]
  },
  {
   "cell_type": "code",
   "execution_count": 4,
   "metadata": {},
   "outputs": [
    {
     "name": "stdout",
     "output_type": "stream",
     "text": [
      "Fitting 5 folds for each of 15 candidates, totalling 75 fits\n",
      "Best Parameters: {'classifier__C': 0.01, 'classifier__penalty': 'l2', 'classifier__solver': 'liblinear'}\n",
      "ROC AUC Score: 0.7907336994789467\n",
      "Accuracy: 0.7573529411764706\n",
      "Confusion Matrix: \n",
      "[[ 18   9]\n",
      " [189 600]]\n",
      "Classification Report: \n",
      "              precision    recall  f1-score   support\n",
      "\n",
      "           1       0.09      0.67      0.15        27\n",
      "           2       0.99      0.76      0.86       789\n",
      "\n",
      "    accuracy                           0.76       816\n",
      "   macro avg       0.54      0.71      0.51       816\n",
      "weighted avg       0.96      0.76      0.84       816\n",
      "\n"
     ]
    }
   ],
   "source": [
    "# Load the training dataset\n",
    "data = pd.read_csv(\"NHANES_data_train.csv\")\n",
    "\n",
    "# Specify numeric and categorical columns\n",
    "numeric_columns = ['Income', 'Age', 'Diastolic', 'Systolic', 'Pulse', 'BMI', 'HDL', 'Trig', 'LDL', 'TCHOL', 'kidneys_eGFR']\n",
    "categorical_columns = ['Sex', 'Race', 'Edu', 'Diabetes', 'CurrentSmoker', 'isActive', 'isInsured']\n",
    "\n",
    "# Define preprocessing pipelines\n",
    "numeric_pipeline = Pipeline([\n",
    "    ('imputer', KNNImputer()),\n",
    "    ('scaler', StandardScaler())])\n",
    "\n",
    "categorical_pipeline = Pipeline([\n",
    "    ('imputer', SimpleImputer(strategy='most_frequent')),\n",
    "    ('encoder', OneHotEncoder(handle_unknown='ignore'))])\n",
    "\n",
    "preprocessor = ColumnTransformer([\n",
    "    ('num', numeric_pipeline, numeric_columns),\n",
    "    ('cat', categorical_pipeline, categorical_columns)])\n",
    "\n",
    "# Define a pipeline for resampling and logistic regression classification\n",
    "model_pipeline = ImPipeline([\n",
    "    ('preprocessor', preprocessor),\n",
    "    ('resampling', SMOTE(random_state=42)),\n",
    "    ('classifier', LogisticRegression(C=0.01, penalty='l2', solver='liblinear', max_iter=1000, random_state=42))\n",
    "])\n",
    "\n",
    "\n",
    "# Split the dataset into training and test sets\n",
    "X = data.drop(['MI'], axis=1)\n",
    "y = data['MI']\n",
    "X_train, X_test, y_train, y_test = train_test_split(X, y, test_size=0.2, random_state=42)\n",
    "\n",
    "# Define the parameter grid for hyperparameter tuning, including solver compatibility\n",
    "param_grid = {\n",
    "    'classifier__C': [0.01, 0.1, 1, 10, 100],\n",
    "    'classifier__penalty': ['l2'],  # 'l1' removed due to solver compatibility\n",
    "    'classifier__solver': ['lbfgs', 'liblinear', 'saga']  # Added compatible solvers\n",
    "}\n",
    "\n",
    "# Perform grid search with cross-validation\n",
    "clf = GridSearchCV(model_pipeline, param_grid, scoring='roc_auc', cv=5, verbose=1)\n",
    "clf.fit(X_train, y_train)\n",
    "\n",
    "\n",
    "# Evaluation\n",
    "y_pred = clf.predict(X_test)\n",
    "y_prob = clf.predict_proba(X_test)[:, 1]  # Probability predictions\n",
    "\n",
    "print(f\"Best Parameters: {clf.best_params_}\")\n",
    "print(f\"ROC AUC Score: {roc_auc_score(y_test, y_prob)}\")\n",
    "print(f\"Accuracy: {accuracy_score(y_test, y_pred)}\")\n",
    "print(f\"Confusion Matrix: \\n{confusion_matrix(y_test, y_pred)}\")\n",
    "print(f\"Classification Report: \\n{classification_report(y_test, y_pred)}\")\n"
   ]
  },
  {
   "cell_type": "code",
   "execution_count": 7,
   "metadata": {},
   "outputs": [
    {
     "name": "stdout",
     "output_type": "stream",
     "text": [
      "Participant ID and MI probabilities saved to LogisticRegression_pred.csv.\n"
     ]
    }
   ],
   "source": [
    "# Apply the trained model to new data\n",
    "new_data = pd.read_csv(\"NHANES_test_data_4_students.csv\")\n",
    "if 'MI' in new_data.columns:\n",
    "    new_data.drop(columns=['MI'], inplace=True)\n",
    "\n",
    "# Predict probabilities on the new dataset\n",
    "new_probabilities = clf.predict_proba(new_data.drop(['ParticipantID'], axis=1))[:, 1]\n",
    "\n",
    "# Create a DataFrame with predictions\n",
    "predictions_df = pd.DataFrame({\n",
    "    'ParticipantID': new_data['ParticipantID'],\n",
    "    'MI_Probability': new_probabilities\n",
    "})\n",
    "\n",
    "# Save the predictions to a CSV file\n",
    "predictions_df.to_csv(\"LogisticRegression_pred.csv\", index=False)\n",
    "print(\"Participant ID and MI probabilities saved to LogisticRegression_pred.csv.\")"
   ]
  }
 ],
 "metadata": {
  "kernelspec": {
   "display_name": "Python 3",
   "language": "python",
   "name": "python3"
  },
  "language_info": {
   "codemirror_mode": {
    "name": "ipython",
    "version": 3
   },
   "file_extension": ".py",
   "mimetype": "text/x-python",
   "name": "python",
   "nbconvert_exporter": "python",
   "pygments_lexer": "ipython3",
   "version": "3.8.10"
  }
 },
 "nbformat": 4,
 "nbformat_minor": 2
}
