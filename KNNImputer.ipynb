{
 "cells": [
  {
   "cell_type": "code",
   "execution_count": 5,
   "id": "b80496ee",
   "metadata": {},
   "outputs": [
    {
     "name": "stdout",
     "output_type": "stream",
     "text": [
      "   Feature1  Feature2  Feature3  MI\n",
      "0       1.0      10.0       1.0   1\n",
      "1       2.0      20.0       0.0   0\n",
      "2       3.0      30.0       3.0   1\n",
      "3       4.0      40.0       NaN   1\n",
      "4       NaN      50.0       5.0   0\n",
      "5       6.0       NaN       NaN   1\n",
      "6       7.0      70.0       0.0   1\n",
      "7       8.0      80.0       1.0   0\n",
      "8       9.0      90.0       9.0   0\n",
      "9      10.0     100.0       0.0   1\n",
      "\n",
      "    Feature1  Feature2  Feature3  MI\n",
      "2       3.0      30.0       3.0   1\n",
      "9      10.0     100.0       0.0   1\n",
      "4       NaN      50.0       5.0   0\n",
      "3       4.0      40.0       NaN   1\n",
      "8       9.0      90.0       9.0   0\n",
      "7       8.0      80.0       1.0   0\n",
      "5       6.0       NaN       NaN   1\n",
      "0       1.0      10.0       1.0   1\n",
      "6       7.0      70.0       0.0   1\n",
      "\n",
      "    Feature1  Feature2  Feature3\n",
      "0       3.0      30.0       3.0\n",
      "1      10.0     100.0       0.0\n",
      "2       4.0      50.0       5.0\n",
      "3       4.0      40.0       3.0\n",
      "4       9.0      90.0       9.0\n",
      "5       8.0      80.0       1.0\n",
      "6       6.0      70.0       0.0\n",
      "7       1.0      10.0       1.0\n",
      "8       7.0      70.0       0.0\n"
     ]
    }
   ],
   "source": [
    "# Machine Learning-Based Imputation\n",
    "\n",
    "from sklearn.impute import KNNImputer\n",
    "import pandas as pd\n",
    "\n",
    "# Example DataFrame with missing values\n",
    "# assumming this is your test data\n",
    "\n",
    "data = {'Feature1': [1, 2, 3, 4, None, 6, 7, 8, 9, 10],\n",
    "        'Feature2': [10, 20, 30, 40, 50, None, 70, 80, 90, 100],\n",
    "        'Feature3': [1, 0, 3, None, 5, None, 0, 1, 9, 0],\n",
    "        'MI': [1,0,1,1,0,1,1,0,0,1]}\n",
    "df0 = pd.DataFrame(data)\n",
    "print(df0)\n",
    "\n",
    "# here is how to use sample(frac = 0.9) take 90% data out\n",
    "df = df0.sample(frac = 0.9)\n",
    "print(\"\\n\",df)\n",
    "\n",
    "\n",
    "X_test = df[['Feature1', 'Feature2', 'Feature3']]\n",
    "y_test = df[['MI']]\n",
    "\n",
    "# Instantiate the KNNImputer, # k is something you can adjust\n",
    "k = 1                               \n",
    "imputer = KNNImputer(n_neighbors=k)  \n",
    "\n",
    "# Apply imputation to the DataFrame\n",
    "X_imputed = pd.DataFrame(imputer.fit_transform(X_test), columns=X_test.columns)\n",
    "\n",
    "# Resulting DataFrame with missing values imputed\n",
    "print(\"\\n\", X_imputed)\n"
   ]
  },
  {
   "cell_type": "code",
   "execution_count": null,
   "id": "b3e823ad",
   "metadata": {},
   "outputs": [],
   "source": []
  }
 ],
 "metadata": {
  "kernelspec": {
   "display_name": "Python 3 (ipykernel)",
   "language": "python",
   "name": "python3"
  },
  "language_info": {
   "codemirror_mode": {
    "name": "ipython",
    "version": 3
   },
   "file_extension": ".py",
   "mimetype": "text/x-python",
   "name": "python",
   "nbconvert_exporter": "python",
   "pygments_lexer": "ipython3",
   "version": "3.10.9"
  }
 },
 "nbformat": 4,
 "nbformat_minor": 5
}
